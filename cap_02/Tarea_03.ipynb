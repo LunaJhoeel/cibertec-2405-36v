{
  "cells": [
    {
      "cell_type": "markdown",
      "id": "dfe497ae",
      "metadata": {
        "id": "dfe497ae"
      },
      "source": [
        "## 1. CARGAR LOS DATOS EN UN DATAFRAME y MOSTRAR LAS 3 PRIMERAS Y 3 ULTIMAS FILAS"
      ]
    },
    {
      "cell_type": "code",
      "execution_count": 1,
      "id": "88f2a882",
      "metadata": {
        "id": "88f2a882"
      },
      "outputs": [],
      "source": [
        "import pandas as pd"
      ]
    },
    {
      "cell_type": "code",
      "execution_count": 3,
      "id": "ir3J7Kp3_z5o",
      "metadata": {
        "id": "ir3J7Kp3_z5o"
      },
      "outputs": [],
      "source": [
        "# TODO:"
      ]
    },
    {
      "cell_type": "code",
      "execution_count": 4,
      "id": "Ohj_Q5zn9xxD",
      "metadata": {
        "id": "Ohj_Q5zn9xxD"
      },
      "outputs": [],
      "source": [
        "# Tres primeras filas\n",
        "df"
      ]
    },
    {
      "cell_type": "code",
      "execution_count": 7,
      "id": "YBJAudU__abJ",
      "metadata": {
        "colab": {
          "base_uri": "https://localhost:8080/"
        },
        "id": "YBJAudU__abJ",
        "outputId": "63b5eee6-527f-48a0-cbb5-3f1bf1bcd6aa"
      },
      "outputs": [
        {
          "name": "stdout",
          "output_type": "stream",
          "text": [
            "Felicitaciones, el código funciona correctamente!\n"
          ]
        }
      ],
      "source": [
        "# Test 01a\n",
        "if df.iloc[2, 3] == 94.5:\n",
        "    print(\"Felicitaciones, el código funciona correctamente!\")\n",
        "else:\n",
        "    print(\"Intenta de nuevo, algo salió mal.\")"
      ]
    },
    {
      "cell_type": "code",
      "execution_count": 21,
      "id": "XaQgNvalDC4R",
      "metadata": {
        "id": "XaQgNvalDC4R"
      },
      "outputs": [],
      "source": [
        "# Tres ultimas filas\n",
        "df"
      ]
    },
    {
      "cell_type": "code",
      "execution_count": 8,
      "id": "bEhiDxPt_cTn",
      "metadata": {
        "colab": {
          "base_uri": "https://localhost:8080/"
        },
        "id": "bEhiDxPt_cTn",
        "outputId": "3bcaed02-dc6e-4905-e1cf-5ca0fe6dd015"
      },
      "outputs": [
        {
          "name": "stdout",
          "output_type": "stream",
          "text": [
            "Felicitaciones, el código funciona correctamente!\n"
          ]
        }
      ],
      "source": [
        "# Test 01b\n",
        "if df.iloc[60, 3] == 104.3:\n",
        "    print(\"Felicitaciones, el código funciona correctamente!\")\n",
        "else:\n",
        "    print(\"Intenta de nuevo, algo salió mal.\")"
      ]
    },
    {
      "cell_type": "markdown",
      "id": "Ew5uyHwA_3Pc",
      "metadata": {
        "id": "Ew5uyHwA_3Pc"
      },
      "source": [
        "## 2. REEMPLAZAR TODOS LOS NAN POR 0"
      ]
    },
    {
      "cell_type": "code",
      "execution_count": 9,
      "id": "cFKJcNaNAO2y",
      "metadata": {
        "id": "cFKJcNaNAO2y"
      },
      "outputs": [],
      "source": [
        "# TODO:"
      ]
    },
    {
      "cell_type": "code",
      "execution_count": 12,
      "id": "Ou-5qncr_42I",
      "metadata": {
        "colab": {
          "base_uri": "https://localhost:8080/"
        },
        "id": "Ou-5qncr_42I",
        "outputId": "cddcf1fe-7285-4173-b861-26d555edc95f"
      },
      "outputs": [
        {
          "name": "stdout",
          "output_type": "stream",
          "text": [
            "Felicitaciones, el código funciona correctamente!\n"
          ]
        }
      ],
      "source": [
        "# Test 02\n",
        "if df['price'].isnull().sum() == 0:\n",
        "    print(\"Felicitaciones, el código funciona correctamente!\")\n",
        "else:\n",
        "    print(\"Intenta de nuevo, algo salió mal.\")"
      ]
    },
    {
      "cell_type": "markdown",
      "id": "wl42m3_lAQGZ",
      "metadata": {
        "id": "wl42m3_lAQGZ"
      },
      "source": [
        "## 3. ENCONTRAR EL AUTO MAS CARO Y MOSTRAR LA EMPRESA"
      ]
    },
    {
      "cell_type": "code",
      "execution_count": 13,
      "id": "rgGC3jDqAUNG",
      "metadata": {
        "id": "rgGC3jDqAUNG"
      },
      "outputs": [],
      "source": [
        "# TODO:"
      ]
    },
    {
      "cell_type": "code",
      "execution_count": 14,
      "id": "RuXuzJgjA7jK",
      "metadata": {
        "id": "RuXuzJgjA7jK"
      },
      "outputs": [],
      "source": [
        "# Encontrar la fila con el precio máximo\n",
        "auto_mas_caro =\n",
        "\n",
        "# Extraer la empresa y el precio del automóvil más caro\n",
        "empresa_auto_mas_caro =\n",
        "precio_auto_mas_caro ="
      ]
    },
    {
      "cell_type": "code",
      "execution_count": 15,
      "id": "hwEjqDFQBDfZ",
      "metadata": {
        "colab": {
          "base_uri": "https://localhost:8080/"
        },
        "id": "hwEjqDFQBDfZ",
        "outputId": "15ca40cd-8eba-457d-ca23-f85d555bf236"
      },
      "outputs": [
        {
          "name": "stdout",
          "output_type": "stream",
          "text": [
            "Felicitaciones, el código funciona correctamente!\n"
          ]
        }
      ],
      "source": [
        "# Test 03\n",
        "if precio_auto_mas_caro == 45400 and empresa_auto_mas_caro == 'mercedes-benz':\n",
        "    print(\"Felicitaciones, el código funciona correctamente!\")\n",
        "else:\n",
        "    print(\"Intenta de nuevo, algo salió mal.\")"
      ]
    },
    {
      "cell_type": "markdown",
      "id": "pOueH963A1N3",
      "metadata": {
        "id": "pOueH963A1N3"
      },
      "source": [
        "## 4.CONTAR EL TOTAL DE AUTOS POR EMPRESA\n"
      ]
    },
    {
      "cell_type": "code",
      "execution_count": null,
      "id": "Dx2U2usSC4kc",
      "metadata": {
        "id": "Dx2U2usSC4kc"
      },
      "outputs": [],
      "source": [
        "# TODO:"
      ]
    },
    {
      "cell_type": "code",
      "execution_count": 16,
      "id": "dvZGhEzLA3D8",
      "metadata": {
        "id": "dvZGhEzLA3D8"
      },
      "outputs": [],
      "source": [
        "autos_por_empresa ="
      ]
    },
    {
      "cell_type": "code",
      "execution_count": 20,
      "id": "J3TYCbtEBsvm",
      "metadata": {
        "colab": {
          "base_uri": "https://localhost:8080/"
        },
        "id": "J3TYCbtEBsvm",
        "outputId": "4ef0d120-c1e1-45a4-cc1c-9d319af6182a"
      },
      "outputs": [
        {
          "name": "stdout",
          "output_type": "stream",
          "text": [
            "Felicitaciones, el código funciona correctamente!\n"
          ]
        }
      ],
      "source": [
        "# Test 04\n",
        "if str(autos_por_empresa.iloc[3:4].index[0]) == 'nissan':\n",
        "    print(\"Felicitaciones, el código funciona correctamente!\")\n",
        "else:\n",
        "    print(\"Intenta de nuevo, algo salió mal.\")"
      ]
    },
    {
      "cell_type": "markdown",
      "id": "-aRzQi74A3YF",
      "metadata": {
        "id": "-aRzQi74A3YF"
      },
      "source": [
        "## 5. CREAR UN PLOT ADECUADO PARA LA DATA ANTERIOR (4.)"
      ]
    },
    {
      "cell_type": "code",
      "execution_count": 20,
      "id": "yD7d1z2vA51v",
      "metadata": {
        "id": "yD7d1z2vA51v"
      },
      "outputs": [],
      "source": [
        "# TODO"
      ]
    }
  ],
  "metadata": {
    "colab": {
      "provenance": []
    },
    "kernelspec": {
      "display_name": "Python 3",
      "name": "python3"
    },
    "language_info": {
      "name": "python"
    }
  },
  "nbformat": 4,
  "nbformat_minor": 5
}
